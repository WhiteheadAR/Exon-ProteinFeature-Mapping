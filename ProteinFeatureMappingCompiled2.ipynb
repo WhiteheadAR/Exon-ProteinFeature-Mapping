{
 "cells": [
  {
   "cell_type": "code",
   "execution_count": 1,
   "metadata": {},
   "outputs": [],
   "source": [
    "# Setup\n",
    "\n",
    "import pandas as pd\n",
    "import numpy as np\n",
    "\n",
    "%matplotlib inline\n",
    "import matplotlib.pyplot as plt\n",
    "\n",
    "from matplotlib import pyplot as plt"
   ]
  },
  {
   "cell_type": "code",
   "execution_count": 2,
   "metadata": {},
   "outputs": [],
   "source": [
    "# Read in the input data\n",
    "\n",
    "Exons1 = pd.read_csv('Exons1.csv')\n",
    "ProteinFeatures = pd.read_csv('ProteinFeatures.csv')"
   ]
  },
  {
   "cell_type": "code",
   "execution_count": 3,
   "metadata": {},
   "outputs": [
    {
     "data": {
      "text/html": [
       "<div>\n",
       "<style scoped>\n",
       "    .dataframe tbody tr th:only-of-type {\n",
       "        vertical-align: middle;\n",
       "    }\n",
       "\n",
       "    .dataframe tbody tr th {\n",
       "        vertical-align: top;\n",
       "    }\n",
       "\n",
       "    .dataframe thead th {\n",
       "        text-align: right;\n",
       "    }\n",
       "</style>\n",
       "<table border=\"1\" class=\"dataframe\">\n",
       "  <thead>\n",
       "    <tr style=\"text-align: right;\">\n",
       "      <th></th>\n",
       "      <th>Gene_feature</th>\n",
       "      <th>Gene_FeatStart</th>\n",
       "      <th>Gene_FeatEnd</th>\n",
       "    </tr>\n",
       "  </thead>\n",
       "  <tbody>\n",
       "    <tr>\n",
       "      <th>0</th>\n",
       "      <td>CDS</td>\n",
       "      <td>5264</td>\n",
       "      <td>135342</td>\n",
       "    </tr>\n",
       "    <tr>\n",
       "      <th>1</th>\n",
       "      <td>Exon_1</td>\n",
       "      <td>5001</td>\n",
       "      <td>5312</td>\n",
       "    </tr>\n",
       "    <tr>\n",
       "      <th>2</th>\n",
       "      <td>Exon_2</td>\n",
       "      <td>55985</td>\n",
       "      <td>56122</td>\n",
       "    </tr>\n",
       "    <tr>\n",
       "      <th>3</th>\n",
       "      <td>Exon_3</td>\n",
       "      <td>76688</td>\n",
       "      <td>76786</td>\n",
       "    </tr>\n",
       "    <tr>\n",
       "      <th>4</th>\n",
       "      <td>Exon_4</td>\n",
       "      <td>82613</td>\n",
       "      <td>82718</td>\n",
       "    </tr>\n",
       "  </tbody>\n",
       "</table>\n",
       "</div>"
      ],
      "text/plain": [
       "  Gene_feature  Gene_FeatStart  Gene_FeatEnd\n",
       "0          CDS            5264        135342\n",
       "1       Exon_1            5001          5312\n",
       "2       Exon_2           55985         56122\n",
       "3       Exon_3           76688         76786\n",
       "4       Exon_4           82613         82718"
      ]
     },
     "execution_count": 3,
     "metadata": {},
     "output_type": "execute_result"
    }
   ],
   "source": [
    "# View basic parameters\n",
    "\n",
    "Exons1.head()"
   ]
  },
  {
   "cell_type": "code",
   "execution_count": 4,
   "metadata": {},
   "outputs": [
    {
     "data": {
      "text/html": [
       "<div>\n",
       "<style scoped>\n",
       "    .dataframe tbody tr th:only-of-type {\n",
       "        vertical-align: middle;\n",
       "    }\n",
       "\n",
       "    .dataframe tbody tr th {\n",
       "        vertical-align: top;\n",
       "    }\n",
       "\n",
       "    .dataframe thead th {\n",
       "        text-align: right;\n",
       "    }\n",
       "</style>\n",
       "<table border=\"1\" class=\"dataframe\">\n",
       "  <thead>\n",
       "    <tr style=\"text-align: right;\">\n",
       "      <th></th>\n",
       "      <th>Protein_feature_name</th>\n",
       "      <th>ProtSeq_FeatStart</th>\n",
       "      <th>ProtSeq_FeatEnd</th>\n",
       "    </tr>\n",
       "  </thead>\n",
       "  <tbody>\n",
       "    <tr>\n",
       "      <th>0</th>\n",
       "      <td>CDS</td>\n",
       "      <td>1</td>\n",
       "      <td>757</td>\n",
       "    </tr>\n",
       "    <tr>\n",
       "      <th>1</th>\n",
       "      <td>LDLa</td>\n",
       "      <td>27</td>\n",
       "      <td>62</td>\n",
       "    </tr>\n",
       "    <tr>\n",
       "      <th>2</th>\n",
       "      <td>Putative_binding_surface</td>\n",
       "      <td>32</td>\n",
       "      <td>53</td>\n",
       "    </tr>\n",
       "    <tr>\n",
       "      <th>3</th>\n",
       "      <td>Glycosylation1</td>\n",
       "      <td>36</td>\n",
       "      <td>36</td>\n",
       "    </tr>\n",
       "    <tr>\n",
       "      <th>4</th>\n",
       "      <td>Calcium_binding_site</td>\n",
       "      <td>45</td>\n",
       "      <td>59</td>\n",
       "    </tr>\n",
       "  </tbody>\n",
       "</table>\n",
       "</div>"
      ],
      "text/plain": [
       "       Protein_feature_name  ProtSeq_FeatStart  ProtSeq_FeatEnd\n",
       "0                       CDS                  1              757\n",
       "1                      LDLa                 27               62\n",
       "2  Putative_binding_surface                 32               53\n",
       "3            Glycosylation1                 36               36\n",
       "4      Calcium_binding_site                 45               59"
      ]
     },
     "execution_count": 4,
     "metadata": {},
     "output_type": "execute_result"
    }
   ],
   "source": [
    "ProteinFeatures.head()"
   ]
  },
  {
   "cell_type": "code",
   "execution_count": 5,
   "metadata": {},
   "outputs": [
    {
     "data": {
      "text/plain": [
       "0        1\n",
       "1       79\n",
       "2       94\n",
       "3      106\n",
       "4      133\n",
       "5      163\n",
       "6      379\n",
       "7      451\n",
       "8      523\n",
       "9      595\n",
       "10     667\n",
       "11     742\n",
       "12     814\n",
       "13     814\n",
       "14     886\n",
       "15     958\n",
       "16     973\n",
       "17    1030\n",
       "18    1102\n",
       "19    1219\n",
       "20    1228\n",
       "21    1318\n",
       "22    1330\n",
       "23    1381\n",
       "24    1453\n",
       "25    1459\n",
       "26    1576\n",
       "27    1582\n",
       "28    1726\n",
       "29    1732\n",
       "30    1861\n",
       "31    1888\n",
       "32    1954\n",
       "33    1978\n",
       "Name: ProtSeq_FeatStart, dtype: int64"
      ]
     },
     "execution_count": 5,
     "metadata": {},
     "output_type": "execute_result"
    }
   ],
   "source": [
    "Codon_FeatStart = ((ProteinFeatures.loc[:, 'ProtSeq_FeatStart'])*3)-2\n",
    "Codon_FeatStart"
   ]
  },
  {
   "cell_type": "code",
   "execution_count": 6,
   "metadata": {},
   "outputs": [
    {
     "data": {
      "text/plain": [
       "0     5264\n",
       "1     5342\n",
       "2     5357\n",
       "3     5369\n",
       "4     5396\n",
       "5     5426\n",
       "6     5642\n",
       "7     5714\n",
       "8     5786\n",
       "9     5858\n",
       "10    5930\n",
       "11    6005\n",
       "12    6077\n",
       "13    6077\n",
       "14    6149\n",
       "15    6221\n",
       "16    6236\n",
       "17    6293\n",
       "18    6365\n",
       "19    6482\n",
       "20    6491\n",
       "21    6581\n",
       "22    6593\n",
       "23    6644\n",
       "24    6716\n",
       "25    6722\n",
       "26    6839\n",
       "27    6845\n",
       "28    6989\n",
       "29    6995\n",
       "30    7124\n",
       "31    7151\n",
       "32    7217\n",
       "33    7241\n",
       "Name: ProtSeq_FeatStart, dtype: int64"
      ]
     },
     "execution_count": 6,
     "metadata": {},
     "output_type": "execute_result"
    }
   ],
   "source": [
    "mRNA_FeatStart = Codon_FeatStart + ((Exons1.loc[0,'Gene_FeatStart']-1))\n",
    "mRNA_FeatStart"
   ]
  },
  {
   "cell_type": "code",
   "execution_count": 7,
   "metadata": {},
   "outputs": [
    {
     "data": {
      "text/plain": [
       "0     2269\n",
       "1      184\n",
       "2      157\n",
       "3      106\n",
       "4      175\n",
       "5      175\n",
       "6      379\n",
       "7      514\n",
       "8      586\n",
       "9      658\n",
       "10     730\n",
       "11     805\n",
       "12     877\n",
       "13     814\n",
       "14     949\n",
       "15    1021\n",
       "16     973\n",
       "17    1093\n",
       "18    1102\n",
       "19    1297\n",
       "20    1288\n",
       "21    1393\n",
       "22    1390\n",
       "23    2011\n",
       "24    1543\n",
       "25    1519\n",
       "26    1642\n",
       "27    1642\n",
       "28    1813\n",
       "29    1792\n",
       "30    1951\n",
       "31    1948\n",
       "32    2014\n",
       "33    2053\n",
       "Name: ProtSeq_FeatEnd, dtype: int64"
      ]
     },
     "execution_count": 7,
     "metadata": {},
     "output_type": "execute_result"
    }
   ],
   "source": [
    "Codon_FeatEnd = ((ProteinFeatures.loc[:, 'ProtSeq_FeatEnd'])*3)-2\n",
    "Codon_FeatEnd"
   ]
  },
  {
   "cell_type": "code",
   "execution_count": 8,
   "metadata": {},
   "outputs": [
    {
     "data": {
      "text/plain": [
       "0     7532\n",
       "1     5447\n",
       "2     5420\n",
       "3     5369\n",
       "4     5438\n",
       "5     5438\n",
       "6     5642\n",
       "7     5777\n",
       "8     5849\n",
       "9     5921\n",
       "10    5993\n",
       "11    6068\n",
       "12    6140\n",
       "13    6077\n",
       "14    6212\n",
       "15    6284\n",
       "16    6236\n",
       "17    6356\n",
       "18    6365\n",
       "19    6560\n",
       "20    6551\n",
       "21    6656\n",
       "22    6653\n",
       "23    7274\n",
       "24    6806\n",
       "25    6782\n",
       "26    6905\n",
       "27    6905\n",
       "28    7076\n",
       "29    7055\n",
       "30    7214\n",
       "31    7211\n",
       "32    7277\n",
       "33    7316\n",
       "Name: ProtSeq_FeatEnd, dtype: int64"
      ]
     },
     "execution_count": 8,
     "metadata": {},
     "output_type": "execute_result"
    }
   ],
   "source": [
    "mRNA_FeatEnd = Codon_FeatEnd + ((Exons1.loc[0,'Gene_FeatStart']-1))\n",
    "mRNA_FeatEnd"
   ]
  },
  {
   "cell_type": "code",
   "execution_count": 9,
   "metadata": {},
   "outputs": [
    {
     "name": "stdout",
     "output_type": "stream",
     "text": [
      "[56015]\n",
      "[2]\n"
     ]
    }
   ],
   "source": [
    "mRNA_FeatStart = Codon_FeatStart + ((Exons1.loc[0,'Gene_FeatStart']-1))\n",
    "spliced_mRNA_FeatStart = []\n",
    "Feat_ExonNumber = []\n",
    "Gene_FeatStart = Exons1.loc[:, 'Gene_FeatStart']\n",
    "Gene_FeatEnd = Exons1.loc[:,'Gene_FeatEnd']\n",
    "n = 1\n",
    "f = 1\n",
    "m = n+1\n",
    "\n",
    "while mRNA_FeatStart[f] > Gene_FeatEnd[n]:\n",
    "    mRNA_FeatStart[f] = mRNA_FeatStart[f] - Gene_FeatEnd[n] + Gene_FeatStart[m]\n",
    "    n+=1\n",
    "    m = n+1\n",
    "    continue\n",
    "spliced_mRNA_FeatStart.append(mRNA_FeatStart[f])\n",
    "Feat_ExonNumber.append(n)\n",
    "\n",
    "print(spliced_mRNA_FeatStart)\n",
    "print(Feat_ExonNumber)"
   ]
  },
  {
   "cell_type": "code",
   "execution_count": null,
   "metadata": {},
   "outputs": [],
   "source": []
  }
 ],
 "metadata": {
  "kernelspec": {
   "display_name": "Python 3",
   "language": "python",
   "name": "python3"
  },
  "language_info": {
   "codemirror_mode": {
    "name": "ipython",
    "version": 3
   },
   "file_extension": ".py",
   "mimetype": "text/x-python",
   "name": "python",
   "nbconvert_exporter": "python",
   "pygments_lexer": "ipython3",
   "version": "3.7.3"
  }
 },
 "nbformat": 4,
 "nbformat_minor": 2
}
